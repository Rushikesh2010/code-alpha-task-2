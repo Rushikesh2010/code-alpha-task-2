{
 "cells": [
  {
   "cell_type": "code",
   "execution_count": null,
   "id": "f0c3e66e",
   "metadata": {},
   "outputs": [],
   "source": [
    "import numpy as np\n",
    "import pandas as pd\n",
    "from sklearn.preprocessing import MinMaxScaler\n",
    "import matplotlib.pyplot as plt\n",
    "\n",
    "import torch\n",
    "import torch.nn as nn"
   ]
  },
  {
   "cell_type": "code",
   "execution_count": null,
   "id": "18df825a",
   "metadata": {},
   "outputs": [],
   "source": [
    "df = pd.read_csv(\"netflix.csv\")\n",
    "closed_prices = df[\"Close\"]\n",
    "df.head()"
   ]
  },
  {
   "cell_type": "code",
   "execution_count": null,
   "id": "62229de2",
   "metadata": {},
   "outputs": [],
   "source": [
    "seq_len = 15\n"
   ]
  },
  {
   "cell_type": "code",
   "execution_count": null,
   "id": "e9836254",
   "metadata": {},
   "outputs": [],
   "source": [
    "mm = MinMaxScaler()\n",
    "scaled_price = mm.fit_transform(np.array(closed_prices)[... , None]).squeeze()\n",
    "\n",
    "X = []\n",
    "y = []"
   ]
  },
  {
   "cell_type": "code",
   "execution_count": null,
   "id": "aa134eed",
   "metadata": {},
   "outputs": [],
   "source": [
    "for i in range(len(scaled_price) - seq_len):\n",
    "    X.append(scaled_price[i : i + seq_len])\n",
    "    y.append(scaled_price[i + seq_len])\n",
    "\n",
    "X = np.array(X)[... , None]\n",
    "y = np.array(y)[... , None]"
   ]
  },
  {
   "cell_type": "code",
   "execution_count": null,
   "id": "60e3d3fd",
   "metadata": {},
   "outputs": [],
   "source": [
    "train_x = torch.from_numpy(X[:int(0.8 * X.shape[0])]).float()\n",
    "train_y = torch.from_numpy(y[:int(0.8 * X.shape[0])]).float()\n",
    "test_x = torch.from_numpy(X[int(0.8 * X.shape[0]):]).float()\n",
    "test_y = torch.from_numpy(y[int(0.8 * X.shape[0]):]).float()"
   ]
  },
  {
   "cell_type": "code",
   "execution_count": null,
   "id": "dab3c017",
   "metadata": {},
   "outputs": [],
   "source": [
    "class Model(nn.Module):\n",
    "    def __init__(self , input_size , hidden_size):\n",
    "        super().__init__()\n",
    "        self.lstm = nn.LSTM(input_size , hidden_size , batch_first = True)\n",
    "        self.fc = nn.Linear(hidden_size , 1)\n",
    "    def forward(self , x):\n",
    "        output , (hidden , cell) = self.lstm(x)\n",
    "        return self.fc(hidden[-1 , :])\n",
    "model = Model(1 , 64)"
   ]
  },
  {
   "cell_type": "code",
   "execution_count": null,
   "id": "7cd11822",
   "metadata": {},
   "outputs": [],
   "source": [
    "optimizer = torch.optim.Adam(model.parameters() , lr = 0.001)\n",
    "loss_fn = nn.MSELoss()\n",
    "\n",
    "num_epochs = 100"
   ]
  },
  {
   "cell_type": "code",
   "execution_count": null,
   "id": "b5acd6a7",
   "metadata": {},
   "outputs": [],
   "source": [
    "for epoch in range(num_epochs):\n",
    "    output = model(train_x)\n",
    "    loss = loss_fn(output , train_y)\n",
    "\n",
    "    optimizer.zero_grad()\n",
    "    loss.backward()\n",
    "    optimizer.step()\n",
    "\n",
    "    if epoch % 10 == 0 and epoch != 0:\n",
    "        print(epoch , \"epoch loss\" , loss.detach().numpy())"
   ]
  },
  {
   "cell_type": "code",
   "execution_count": null,
   "id": "6ab1802f",
   "metadata": {},
   "outputs": [],
   "source": [
    "model.eval()\n",
    "with torch.no_grad():\n",
    "    output = model(test_x)\n"
   ]
  },
  {
   "cell_type": "code",
   "execution_count": null,
   "id": "bc652948",
   "metadata": {},
   "outputs": [],
   "source": [
    "pred = mm.inverse_transform(output.numpy())\n",
    "real = mm.inverse_transform(test_y.numpy())"
   ]
  },
  {
   "cell_type": "code",
   "execution_count": null,
   "id": "527d55b8",
   "metadata": {},
   "outputs": [],
   "source": [
    "plt.plot(pred.squeeze() , color = \"red\" , label = \"predicted\")\n",
    "plt.plot(real.squeeze() , color = \"green\" , label = \"real\")\n",
    "plt.show()"
   ]
  },
  {
   "cell_type": "code",
   "execution_count": null,
   "id": "e0247a28",
   "metadata": {},
   "outputs": [],
   "source": []
  }
 ],
 "metadata": {
  "kernelspec": {
   "display_name": "Python 3 (ipykernel)",
   "language": "python",
   "name": "python3"
  },
  "language_info": {
   "codemirror_mode": {
    "name": "ipython",
    "version": 3
   },
   "file_extension": ".py",
   "mimetype": "text/x-python",
   "name": "python",
   "nbconvert_exporter": "python",
   "pygments_lexer": "ipython3",
   "version": "3.10.9"
  }
 },
 "nbformat": 4,
 "nbformat_minor": 5
}
